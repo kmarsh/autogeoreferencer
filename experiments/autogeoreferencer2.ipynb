{
 "cells": [
  {
   "cell_type": "code",
   "execution_count": 63,
   "metadata": {},
   "outputs": [
    {
     "name": "stdout",
     "output_type": "stream",
     "text": [
      "Autogeorefencing Done\n"
     ]
    }
   ],
   "source": [
    "import numpy as np\n",
    "import pandas as pd\n",
    "import math\n",
    "import time\n",
    "\n",
    "input_csv = 'raster.csv'\n",
    "output_csv = f'Populated Raster Points{time.time()}.csv'\n",
    "\n",
    "def combine_coordinates(x,y):\n",
    "    coords=[]\n",
    "    for a,b in zip(x,y):\n",
    "        coords.append((a,b))\n",
    "    return(coords)\n",
    "\n",
    "def calculate_distance_matrix(coords):\n",
    "    row_dist=[]\n",
    "    for i in range(len(coords)):\n",
    "        dist=[]\n",
    "        for j in range(len(coords)):\n",
    "            if j==i:\n",
    "                dist.append(0)\n",
    "            else:\n",
    "                change_x=coords[i][0]-coords[j][0]\n",
    "                change_y=coords[i][1]-coords[j][1]\n",
    "                dist.append(math.sqrt(math.pow(change_x,2)+math.pow(change_y,2)))\n",
    "        row_dist.append(dist)\n",
    "    return(row_dist)\n",
    "\n",
    "def calculate_tpp(dist,x,y,type_):\n",
    "    tpp=[]\n",
    "    ind=list(dist.sort_values().index)\n",
    "    if type_=='raster':\n",
    "        range_=len(dist)\n",
    "    else:\n",
    "        range_=int(0.25*len(dist))\n",
    "    for i in range(2,range_,1):\n",
    "        di=dist[ind[1]]\n",
    "        dij=dist[ind[i]]\n",
    "        rij=dij/di\n",
    "        c_x=x[ind[i]]-x[ind[1]]\n",
    "        c_y=y[ind[i]]-y[ind[1]]\n",
    "        d_i_r=math.sqrt(math.pow(c_x,2)+math.pow(c_y,2))\n",
    "        theta_ij=math.acos((math.pow(di,2)+math.pow(dij,2)-math.pow(d_i_r,2))/(2*di*dij))\n",
    "        tpp.append((rij*math.cos(theta_ij),rij*math.sin(theta_ij)))\n",
    "    return(tpp)\n",
    "\n",
    "def to_polar_coord(delta_x,delta_y):\n",
    "    rho=math.sqrt(delta_x**2+delta_y**2)\n",
    "    theta=math.degrees(math.atan(delta_y/delta_x))\n",
    "    return(rho,theta)\n",
    "\n",
    "def find_candidate_cpps(tpp_r,tpp_v,delta_r_tolerance,delta_theta_tolerance):\n",
    "    max_v=np.array(tpp_r).flatten().max()\n",
    "    count=0\n",
    "    sum_delta_r=0\n",
    "    for i in (tpp_r):\n",
    "        for j in (tpp_v):\n",
    "            if j[0]>max_v+delta_r_tolerance:\n",
    "                break\n",
    "            else:\n",
    "                if abs(i[0]-j[0])<=delta_r_tolerance and abs(i[1]-j[1])<=delta_theta_tolerance:\n",
    "                    count=count+1\n",
    "                    sum_delta_r=sum_delta_r+abs(i[0]-j[0])\n",
    "    if count>=len(tpp_r):\n",
    "        return(True,sum_delta_r/count)\n",
    "    else:\n",
    "        return(False,None)\n",
    "    \n",
    "raster_intersections=pd.read_csv(input_csv)\n",
    "raster_intersections = raster_intersections.sample(7)\n",
    "vector_intersections=pd.read_csv('vector.csv')\n",
    "\n",
    "x_r=np.array(raster_intersections['x'])\n",
    "y_r=np.array(raster_intersections['y'])\n",
    "\n",
    "x_v=np.array(vector_intersections['x'])\n",
    "y_v=np.array(vector_intersections['y'])\n",
    "    \n",
    "raster_coords=combine_coordinates(x_r,y_r)\n",
    "vector_coords=combine_coordinates(x_v,y_v)\n",
    "\n",
    "dist_r=calculate_distance_matrix(raster_coords)\n",
    "dist_v=calculate_distance_matrix(vector_coords)\n",
    "\n",
    "df_raster_dist=pd.DataFrame(dist_r)\n",
    "df_vector_dist=pd.DataFrame(dist_v)\n",
    "\n",
    "cpps={}\n",
    "for j in range(len(df_raster_dist)):\n",
    "    tpp_r=calculate_tpp(df_raster_dist[j],x_r,y_r,'raster')\n",
    "    tpp_r_polar=[]\n",
    "    for p in tpp_r:\n",
    "        r,t=to_polar_coord(p[0],p[1])\n",
    "        tpp_r_polar.append((r,t))\n",
    "        \n",
    "    matching_cpps=[]\n",
    "    deltas_ave=[]\n",
    "    for i in range(len(df_vector_dist)):\n",
    "        tpp_v=calculate_tpp(df_vector_dist[i],x_v,y_v,'vector')\n",
    "        tpp_v_polar=[]\n",
    "        for p in tpp_v:\n",
    "            r,t=to_polar_coord(p[0],p[1])\n",
    "            tpp_v_polar.append((r,t))\n",
    "        \n",
    "        match_status,delta_=find_candidate_cpps(tpp_r_polar,tpp_v_polar,0.3,5)\n",
    "        if match_status==True:\n",
    "            matching_cpps.append(i)\n",
    "            deltas_ave.append(delta_)\n",
    "    dict_={'Index':matching_cpps,'Delta':deltas_ave}\n",
    "    df=pd.DataFrame(dict_)\n",
    "    optimum_id=list(df['Delta'].sort_values().index)\n",
    "\n",
    "    if len(matching_cpps)>0:\n",
    "        cpps[str(j+1)]=df['Index'][optimum_id[0]]\n",
    "    else:\n",
    "        cpps[str(j+1)]=None\n",
    "\n",
    "x_coord=[]\n",
    "y_coord=[]\n",
    "for i in range(len(x_r)):\n",
    "    if cpps[str(i+1)]!=None:\n",
    "        x_coord.append(x_v[cpps[str(i+1)]])\n",
    "        y_coord.append(y_v[cpps[str(i+1)]])\n",
    "    else:\n",
    "        x_coord.append(None)\n",
    "        y_coord.append(None)\n",
    "raster_intersections['Coordinate X']=x_coord\n",
    "raster_intersections['Coordinate Y']=y_coord\n",
    "raster_intersections.to_csv(output_csv,index=None)\n",
    "\n",
    "\n",
    "\n",
    "print('Autogeorefencing Done')"
   ]
  },
  {
   "cell_type": "code",
   "execution_count": 40,
   "metadata": {},
   "outputs": [
    {
     "name": "stdout",
     "output_type": "stream",
     "text": [
      "14214736.254939925\n"
     ]
    }
   ],
   "source": [
    "import numpy as np\n",
    "from tps import ThinPlateSpline\n",
    "import pandas as pd\n",
    "\n",
    "tps = ThinPlateSpline(alpha=0.0)  # 0 Regularization\n",
    "\n",
    "# Known ground truth values\n",
    "p = np.array([[2126, 598], [588, 1086], [1634, 1194], [608, 451]])\n",
    "i = np.array([[-9310495.04317, 4896392.15554], [-9349363.69054, 4885318.48111], [-9323285.20739,4881661.78734], [-9348299.36488, 4901172.06749]])\n",
    "\n",
    "tps.fit(p, i)\n",
    "\n",
    "predicted = pd.read_csv(output_csv)\n",
    "predicted.dropna(subset=['Coordinate X'], inplace=True)\n",
    "\n",
    "predicted_rasters = np.stack([predicted['x'].values, predicted['y'].values], axis=1)\n",
    "predicted_vectors = np.stack([predicted['Coordinate X'].values, predicted['Coordinate X'].values], axis=1)\n",
    "\n",
    "ground_truth_model_vectors = tps.transform(predicted_rasters)\n",
    "\n",
    "rmse = np.linalg.norm(predicted_vectors - ground_truth_model_vectors) / np.sqrt(len(ground_truth_model_vectors))\n",
    "\n",
    "print(rmse)"
   ]
  },
  {
   "cell_type": "code",
   "execution_count": 14,
   "metadata": {},
   "outputs": [],
   "source": [
    "c = []\n",
    "\n",
    "for i, row in raster_intersections.iterrows():\n",
    "  if math.isnan(row['Coordinate X']) or math.isnan(row['Coordinate Y']):\n",
    "    continue\n",
    "  \n",
    "  c.append([row['x'], row['y'], row['Coordinate X'], row['Coordinate Y']])\n",
    "\n",
    "V_X, V_Y, V_XY, mo, mox, moy, [a, b, c, d] = helm_trans(np.array(c))"
   ]
  },
  {
   "cell_type": "code",
   "execution_count": 34,
   "metadata": {},
   "outputs": [
    {
     "name": "stdout",
     "output_type": "stream",
     "text": [
      "14263.22900832384 6119.100537297428 12883.955540063658\n"
     ]
    }
   ],
   "source": [
    "gcps = np.array(\n",
    "    [[2126, 598, -9310495.04317, 4896392.15554],\n",
    "    [588, 1086, -9349363.69054, 4885318.48111],\n",
    "    [1634, 1194, -9323285.20739,4881661.78734],\n",
    "    [608, 451, -9348299.36488, 4901172.06749]],\n",
    "  )\n",
    "\n",
    "V_X, V_Y, V_XY, mo, mox, moy, [a, b, c, d] = helm_trans(gcps)\n",
    "\n",
    "print(mo, mox, moy)"
   ]
  },
  {
   "cell_type": "code",
   "execution_count": null,
   "metadata": {},
   "outputs": [],
   "source": []
  },
  {
   "cell_type": "code",
   "execution_count": 55,
   "metadata": {},
   "outputs": [
    {
     "name": "stdout",
     "output_type": "stream",
     "text": [
      "gdal_translate -gcp 875.0 929.0 -9333459.92016 4900016.24347 -gcp 2153.0 920.0 -9306462.49462 4870941.29055 -gcp 1634.0 1194.0 -9313871.69729 4881574.31342 -gcp 1409.0 1403.0 -9313871.69729 4881574.31342 -gcp 1893.0 1284.0 -9317142.7092 4875286.22083 -gcp 2021.0 1320.0 -9333293.05225 4902144.54607 -gcp 1338.0 1206.0 -9325295.08079 4884466.01981 -of GTiff ../data/OH-Champaign-72-01.jpg ../data/OH-Champaign-72-01-1.tif\n",
      "gdalwarp -tps -r bilinear -s_srs \"EPSG:3857\" -t_srs \"EPSG:3857\" -overwrite -tr 2.0 -2.0 ../data/OH-Champaign-72-01-1.tif ../data/OH-Champaign-72-01-1-prj.tif\n"
     ]
    }
   ],
   "source": [
    "command = 'gdal_translate '\n",
    "\n",
    "for i, row in raster_intersections.iterrows():\n",
    "  if math.isnan(row['Coordinate X']) or math.isnan(row['Coordinate Y']):\n",
    "    continue\n",
    "\n",
    "  command += f'-gcp {row[\"x\"]} {row[\"y\"]} {row[\"Coordinate X\"]} {row[\"Coordinate Y\"]} '\n",
    "\n",
    "command += '-of GTiff ../data/OH-Champaign-72-01.jpg ../data/OH-Champaign-72-01-1.tif'\n",
    "\n",
    "print(command)\n",
    "os.system(command)\n",
    "\n",
    "warp_command = f'gdalwarp -tps -r bilinear -s_srs \"EPSG:3857\" -t_srs \"EPSG:3857\" -overwrite -tr 2.0 -2.0 ../data/OH-Champaign-72-01-1.tif ../data/OH-Champaign-72-01-1-prj.tif'\n",
    "print(warp_command)\n",
    "# os.system(warp_command)"
   ]
  }
 ],
 "metadata": {
  "interpreter": {
   "hash": "aee8b7b246df8f9039afb4144a1f6fd8d2ca17a180786b69acc140d282b71a49"
  },
  "kernelspec": {
   "display_name": "Python 3.9.12 64-bit",
   "language": "python",
   "name": "python3"
  },
  "language_info": {
   "codemirror_mode": {
    "name": "ipython",
    "version": 3
   },
   "file_extension": ".py",
   "mimetype": "text/x-python",
   "name": "python",
   "nbconvert_exporter": "python",
   "pygments_lexer": "ipython3",
   "version": "3.9.12"
  },
  "orig_nbformat": 4
 },
 "nbformat": 4,
 "nbformat_minor": 2
}
