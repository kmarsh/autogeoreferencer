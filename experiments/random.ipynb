{
 "cells": [
  {
   "cell_type": "markdown",
   "metadata": {},
   "source": [
    "# random\n",
    "\n",
    "Picks a number of points from the raster image and the same number from `intersections` at random. Uses `np.linalg.lstsq` to fit. Runs a bunch of times and keeps the one with the lowest RMSE."
   ]
  },
  {
   "cell_type": "code",
   "execution_count": 2,
   "metadata": {},
   "outputs": [
    {
     "name": "stderr",
     "output_type": "stream",
     "text": [
      "<ipython-input-2-56c4fe649168>:26: FutureWarning: `rcond` parameter will change to the default of machine precision times ``max(M, N)`` where M and N are the input matrix dimensions.\n",
      "To use the future default and silence this warning we advise to pass `rcond=None`, to keep using the old, explicitly pass `rcond=-1`.\n",
      "  A, res, rank, s = np.linalg.lstsq(X, Y)\n"
     ]
    },
    {
     "name": "stdout",
     "output_type": "stream",
     "text": [
      "755.1512428230834\n"
     ]
    }
   ],
   "source": [
    "import numpy as np\n",
    "\n",
    "rng = np.random.default_rng()\n",
    "\n",
    "points = np.loadtxt('/Users/kmarsh/Code/kmarsh/autogeoreferencer/data/OH-Champaign-72-01.csv', delimiter=',', usecols=(0, 1))\n",
    "intersections = np.loadtxt('/Users/kmarsh/Code/kmarsh/autogeoreferencer/data/39021-intersections-3857.psv', delimiter='|')\n",
    "\n",
    "pts = 6\n",
    "primary = rng.choice(points, pts)\n",
    "\n",
    "n = primary.shape[0]\n",
    "pad = lambda x: np.hstack([x, np.ones((x.shape[0], 1))])\n",
    "unpad = lambda x: x[:,:-1]\n",
    "\n",
    "best_score = None\n",
    "best_transform = None\n",
    "\n",
    "for i in range(1_000_000):\n",
    "  secondary = rng.choice(intersections, pts)\n",
    "\n",
    "  X = pad(primary)\n",
    "  Y = pad(secondary)\n",
    "\n",
    "  # Solve the least squares problem X * A = Y\n",
    "  # to find our transformation matrix A\n",
    "  A, res, rank, s = np.linalg.lstsq(X, Y)\n",
    "\n",
    "  transform = lambda x: unpad(np.dot(pad(x), A))\n",
    "\n",
    "  # max_error = np.abs(secondary - transform(primary)).max()\n",
    "  max_error = np.sqrt(np.mean((secondary - transform(primary))**2))\n",
    "\n",
    "  if best_score is None:\n",
    "    best_score = max_error\n",
    "\n",
    "  if max_error <= best_score:\n",
    "    best_score = max_error\n",
    "    best_transform = A\n",
    "\n",
    "print(best_score)"
   ]
  },
  {
   "cell_type": "code",
   "execution_count": 5,
   "metadata": {},
   "outputs": [
    {
     "data": {
      "text/plain": [
       "array([[-9299810.34252691,  4884979.52299427],\n",
       "       [-9334239.91174546,  4880116.69051279]])"
      ]
     },
     "execution_count": 5,
     "metadata": {},
     "output_type": "execute_result"
    }
   ],
   "source": [
    "A = best_transform\n",
    "transform = lambda x: unpad(np.dot(pad(x), A))\n",
    "\n",
    "transform(np.asarray([[2126, 598], [588, 1086]]))"
   ]
  }
 ],
 "metadata": {
  "interpreter": {
   "hash": "aee8b7b246df8f9039afb4144a1f6fd8d2ca17a180786b69acc140d282b71a49"
  },
  "kernelspec": {
   "display_name": "Python 3.9.12 64-bit",
   "language": "python",
   "name": "python3"
  },
  "language_info": {
   "codemirror_mode": {
    "name": "ipython",
    "version": 3
   },
   "file_extension": ".py",
   "mimetype": "text/x-python",
   "name": "python",
   "nbconvert_exporter": "python",
   "pygments_lexer": "ipython3",
   "version": "3.9.12"
  },
  "orig_nbformat": 4
 },
 "nbformat": 4,
 "nbformat_minor": 2
}
