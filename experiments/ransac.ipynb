{
 "cells": [
  {
   "cell_type": "code",
   "execution_count": 37,
   "metadata": {},
   "outputs": [
    {
     "name": "stdout",
     "output_type": "stream",
     "text": [
      "<AffineTransform(matrix=\n",
      "    [[-5.34105276e-01, -2.84907477e-01,  2.71488249e+03],\n",
      "     [ 4.96557426e-01, -1.18516210e-01,  4.18191607e+02],\n",
      "     [ 0.00000000e+00,  0.00000000e+00,  1.00000000e+00]])>\n"
     ]
    }
   ],
   "source": [
    "import numpy as np\n",
    "from skimage.transform import SimilarityTransform\n",
    "from skimage.transform import warp, AffineTransform\n",
    "from skimage.measure import ransac\n",
    "\n",
    "points = np.loadtxt('/Users/kmarsh/Code/kmarsh/autogeoreferencer/data/OH-Champaign-72-01.csv', delimiter=',', usecols=(0, 1))\n",
    "intersections = np.loadtxt('/Users/kmarsh/Code/kmarsh/autogeoreferencer/data/39021-intersections-3857.psv', delimiter='|')\n",
    "\n",
    "pts = 12\n",
    "rng = np.random.default_rng()\n",
    "points = rng.choice(points, pts)\n",
    "intersections = rng.choice(points, pts)\n",
    "\n",
    "# robustly estimate affine transform model with RANSAC\n",
    "model_robust, inliers = ransac((points, intersections), AffineTransform, min_samples=3,\n",
    "                               residual_threshold=2, max_trials=10000)\n",
    "outliers = inliers == False\n",
    "\n",
    "print(model_robust)"
   ]
  },
  {
   "cell_type": "code",
   "execution_count": 39,
   "metadata": {},
   "outputs": [
    {
     "data": {
      "image/png": "[encoded data removed]",
      "text/plain": [
       "<Figure size 864x648 with 1 Axes>"
      ]
     },
     "metadata": {
      "needs_background": "light"
     },
     "output_type": "display_data"
    }
   ],
   "source": [
    "import numpy as np\n",
    "import matplotlib.pyplot as plt\n",
    "\n",
    "plt.figure(figsize=(12, 9))\n",
    "plt.scatter(points[:,0], points[:,1], color='blue', edgecolor='white', s=50)\n",
    "plt.show()"
   ]
  },
  {
   "cell_type": "code",
   "execution_count": 33,
   "metadata": {},
   "outputs": [
    {
     "data": {
      "text/plain": [
       "array([[1756.8387632 , 1085.77122457]])"
      ]
     },
     "execution_count": 33,
     "metadata": {},
     "output_type": "execute_result"
    }
   ],
   "source": [
    "model_robust([1634, 1194])"
   ]
  }
 ],
 "metadata": {
  "interpreter": {
   "hash": "aee8b7b246df8f9039afb4144a1f6fd8d2ca17a180786b69acc140d282b71a49"
  },
  "kernelspec": {
   "display_name": "Python 3.9.12 64-bit",
   "language": "python",
   "name": "python3"
  },
  "language_info": {
   "codemirror_mode": {
    "name": "ipython",
    "version": 3
   },
   "file_extension": ".py",
   "mimetype": "text/x-python",
   "name": "python",
   "nbconvert_exporter": "python",
   "pygments_lexer": "ipython3",
   "version": "3.9.12"
  },
  "orig_nbformat": 4
 },
 "nbformat": 4,
 "nbformat_minor": 2
}
