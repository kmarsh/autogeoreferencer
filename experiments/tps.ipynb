{
 "cells": [
  {
   "cell_type": "code",
   "execution_count": 28,
   "metadata": {},
   "outputs": [
    {
     "name": "stdout",
     "output_type": "stream",
     "text": [
      "[[-9322529.29918016  4888563.51845513]\n",
      " [-9321462.93244722  4875691.03879834]]\n",
      "18.11870709410609\n",
      "[-9322539.3668   4888548.45424]\n"
     ]
    }
   ],
   "source": [
    "import numpy as np\n",
    "from tps import ThinPlateSpline\n",
    "\n",
    "from scipy import spatial\n",
    "from scipy.spatial import distance\n",
    "\n",
    "points = np.loadtxt('/Users/kmarsh/Code/kmarsh/autogeoreferencer/data/OH-Champaign-72-01.csv', delimiter=',', usecols=(0, 1))\n",
    "intersections = np.loadtxt('/Users/kmarsh/Code/kmarsh/autogeoreferencer/data/39021-intersections-3857.psv', delimiter='|')\n",
    "\n",
    "# Create the tps object\n",
    "tps = ThinPlateSpline(alpha=0.0)  # 0 Regularization\n",
    "\n",
    "p = np.array([[2126, 598], [588, 1086], [1634, 1194], [608, 451]])\n",
    "i = np.array([[-9310495.04317, 4896392.15554], [-9349363.69054, 4885318.48111], [-9323285.20739,4881661.78734], [-9348299.36488, 4901172.06749]])\n",
    "\n",
    "tps.fit(p, i)\n",
    "\n",
    "new_points = np.array([[1655, 920], [1715,1429]])\n",
    "\n",
    "Y = tps.transform(new_points)\n",
    "\n",
    "print(Y)\n",
    "\n",
    "\n",
    "tree = spatial.KDTree(intersections)\n",
    "nearestDistances, nearestIndices = tree.query([-9322529.29918016, 4888563.51845513], 1)\n",
    "\n",
    "print(nearestDistances)\n",
    "\n",
    "print(intersections[nearestIndices])\n",
    "\n"
   ]
  }
 ],
 "metadata": {
  "interpreter": {
   "hash": "aee8b7b246df8f9039afb4144a1f6fd8d2ca17a180786b69acc140d282b71a49"
  },
  "kernelspec": {
   "display_name": "Python 3.9.12 64-bit",
   "language": "python",
   "name": "python3"
  },
  "language_info": {
   "codemirror_mode": {
    "name": "ipython",
    "version": 3
   },
   "file_extension": ".py",
   "mimetype": "text/x-python",
   "name": "python",
   "nbconvert_exporter": "python",
   "pygments_lexer": "ipython3",
   "version": "3.9.12"
  },
  "orig_nbformat": 4
 },
 "nbformat": 4,
 "nbformat_minor": 2
}
