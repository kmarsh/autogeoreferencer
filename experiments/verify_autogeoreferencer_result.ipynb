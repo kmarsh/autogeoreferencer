{
 "cells": [
  {
   "cell_type": "code",
   "execution_count": 2,
   "metadata": {},
   "outputs": [
    {
     "name": "stdout",
     "output_type": "stream",
     "text": [
      "14211919.700064197\n"
     ]
    }
   ],
   "source": [
    "import numpy as np\n",
    "from tps import ThinPlateSpline\n",
    "import pandas as pd\n",
    "\n",
    "tps = ThinPlateSpline(alpha=0.0)  # 0 Regularization\n",
    "\n",
    "# Known ground truth values\n",
    "p = np.array([[2126, 598], [588, 1086], [1634, 1194], [608, 451]])\n",
    "i = np.array([[-9310495.04317, 4896392.15554], [-9349363.69054, 4885318.48111], [-9323285.20739,4881661.78734], [-9348299.36488, 4901172.06749]])\n",
    "\n",
    "tps.fit(p, i)\n",
    "\n",
    "predicted = pd.read_csv('Populated Raster Points1653336001.267106.csv')\n",
    "predicted.dropna(subset=['Coordinate X'], inplace=True)\n",
    "\n",
    "predicted_rasters = np.stack([predicted['x'].values, predicted['y'].values], axis=1)\n",
    "predicted_vectors = np.stack([predicted['Coordinate X'].values, predicted['Coordinate X'].values], axis=1)\n",
    "\n",
    "ground_truth_model_vectors = tps.transform(predicted_rasters)\n",
    "\n",
    "rmse = np.linalg.norm(predicted_vectors - ground_truth_model_vectors) / np.sqrt(len(ground_truth_model_vectors))\n",
    "\n",
    "print(rmse)\n"
   ]
  }
 ],
 "metadata": {
  "interpreter": {
   "hash": "aee8b7b246df8f9039afb4144a1f6fd8d2ca17a180786b69acc140d282b71a49"
  },
  "kernelspec": {
   "display_name": "Python 3.9.12 64-bit",
   "language": "python",
   "name": "python3"
  },
  "language_info": {
   "codemirror_mode": {
    "name": "ipython",
    "version": 3
   },
   "file_extension": ".py",
   "mimetype": "text/x-python",
   "name": "python",
   "nbconvert_exporter": "python",
   "pygments_lexer": "ipython3",
   "version": "3.9.12"
  },
  "orig_nbformat": 4
 },
 "nbformat": 4,
 "nbformat_minor": 2
}
